{
  "nbformat": 4,
  "nbformat_minor": 0,
  "metadata": {
    "colab": {
      "name": "big5.ipynb",
      "provenance": []
    },
    "kernelspec": {
      "name": "python3",
      "display_name": "Python 3"
    }
  },
  "cells": [
    {
      "cell_type": "markdown",
      "metadata": {
        "id": "lw5Ufu6oevmH"
      },
      "source": [
        "# Big 5 personality assessment"
      ]
    },
    {
      "cell_type": "code",
      "metadata": {
        "colab": {
          "base_uri": "https://localhost:8080/"
        },
        "id": "E6exY27FVAEm",
        "outputId": "6c6d3122-dd8c-4e10-b94f-7805a9572409"
      },
      "source": [
        "import numpy as np\r\n",
        "import pandas as pd\r\n",
        "from sklearn.model_selection import train_test_split\r\n",
        "import nltk\r\n",
        "import re\r\n",
        "import matplotlib.pyplot as plt\r\n",
        "from wordcloud import WordCloud\r\n",
        "from keras.preprocessing.sequence import pad_sequences\r\n",
        "from keras.preprocessing.text import Tokenizer\r\n",
        "from sklearn.metrics import accuracy_score, precision_score, multilabel_confusion_matrix, f1_score\r\n",
        "from sklearn.feature_extraction.text import CountVectorizer, TfidfTransformer, TfidfVectorizer\r\n",
        "from keras import models, layers, optimizers, losses, callbacks\r\n",
        "nltk.download('stopwords')\r\n",
        "import gensim\r\n",
        "from keras.models import load_model\r\n",
        "import pickle"
      ],
      "execution_count": 3,
      "outputs": [
        {
          "output_type": "stream",
          "text": [
            "[nltk_data] Downloading package stopwords to /root/nltk_data...\n",
            "[nltk_data]   Package stopwords is already up-to-date!\n"
          ],
          "name": "stdout"
        }
      ]
    },
    {
      "cell_type": "code",
      "metadata": {
        "id": "znVq8EYFYM1k"
      },
      "source": [
        "# Replace path with current path of embeddings\r\n",
        "gm = gensim.models.KeyedVectors.load_word2vec_format('/content/drive/MyDrive/GoogleNews-vectors-negative300.bin', binary=True)\r\n",
        "\r\n",
        "gm.save_word2vec_format('w2vg.txt', binary=False)"
      ],
      "execution_count": 4,
      "outputs": []
    },
    {
      "cell_type": "code",
      "metadata": {
        "id": "3Zyr3OFcVJQa"
      },
      "source": [
        "df = pd.read_csv('https://cainvas-static.s3.amazonaws.com/media/user_data/AyishaR0/essays.csv', encoding='cp1252', error_bad_lines=False, names = ['#AUTHID','TEXT','cEXT','cNEU','cAGR','cCON','cOPN'], skiprows=[0])"
      ],
      "execution_count": 5,
      "outputs": []
    },
    {
      "cell_type": "code",
      "metadata": {
        "colab": {
          "base_uri": "https://localhost:8080/",
          "height": 419
        },
        "id": "nHBQyHHbVQco",
        "outputId": "c36074ca-8529-4411-e5ad-90e4f1864463"
      },
      "source": [
        "targets = ['cEXT','cNEU','cAGR','cCON','cOPN']\r\n",
        "for c in targets:\r\n",
        "    df[c] = (df[c] == 'y').astype('int64')\r\n",
        "\r\n",
        "df = df.drop(columns = ['#AUTHID'])\r\n",
        "\r\n",
        "df"
      ],
      "execution_count": 6,
      "outputs": [
        {
          "output_type": "execute_result",
          "data": {
            "text/html": [
              "<div>\n",
              "<style scoped>\n",
              "    .dataframe tbody tr th:only-of-type {\n",
              "        vertical-align: middle;\n",
              "    }\n",
              "\n",
              "    .dataframe tbody tr th {\n",
              "        vertical-align: top;\n",
              "    }\n",
              "\n",
              "    .dataframe thead th {\n",
              "        text-align: right;\n",
              "    }\n",
              "</style>\n",
              "<table border=\"1\" class=\"dataframe\">\n",
              "  <thead>\n",
              "    <tr style=\"text-align: right;\">\n",
              "      <th></th>\n",
              "      <th>TEXT</th>\n",
              "      <th>cEXT</th>\n",
              "      <th>cNEU</th>\n",
              "      <th>cAGR</th>\n",
              "      <th>cCON</th>\n",
              "      <th>cOPN</th>\n",
              "    </tr>\n",
              "  </thead>\n",
              "  <tbody>\n",
              "    <tr>\n",
              "      <th>0</th>\n",
              "      <td>Well, right now I just woke up from a mid-day ...</td>\n",
              "      <td>0</td>\n",
              "      <td>1</td>\n",
              "      <td>1</td>\n",
              "      <td>0</td>\n",
              "      <td>1</td>\n",
              "    </tr>\n",
              "    <tr>\n",
              "      <th>1</th>\n",
              "      <td>Well, here we go with the stream of consciousn...</td>\n",
              "      <td>0</td>\n",
              "      <td>0</td>\n",
              "      <td>1</td>\n",
              "      <td>0</td>\n",
              "      <td>0</td>\n",
              "    </tr>\n",
              "    <tr>\n",
              "      <th>2</th>\n",
              "      <td>An open keyboard and buttons to push. The thin...</td>\n",
              "      <td>0</td>\n",
              "      <td>1</td>\n",
              "      <td>0</td>\n",
              "      <td>1</td>\n",
              "      <td>1</td>\n",
              "    </tr>\n",
              "    <tr>\n",
              "      <th>3</th>\n",
              "      <td>I can't believe it!  It's really happening!  M...</td>\n",
              "      <td>1</td>\n",
              "      <td>0</td>\n",
              "      <td>1</td>\n",
              "      <td>1</td>\n",
              "      <td>0</td>\n",
              "    </tr>\n",
              "    <tr>\n",
              "      <th>4</th>\n",
              "      <td>Well, here I go with the good old stream of co...</td>\n",
              "      <td>1</td>\n",
              "      <td>0</td>\n",
              "      <td>1</td>\n",
              "      <td>0</td>\n",
              "      <td>1</td>\n",
              "    </tr>\n",
              "    <tr>\n",
              "      <th>...</th>\n",
              "      <td>...</td>\n",
              "      <td>...</td>\n",
              "      <td>...</td>\n",
              "      <td>...</td>\n",
              "      <td>...</td>\n",
              "      <td>...</td>\n",
              "    </tr>\n",
              "    <tr>\n",
              "      <th>2462</th>\n",
              "      <td>I'm home. wanted to go to bed but remembe...</td>\n",
              "      <td>0</td>\n",
              "      <td>1</td>\n",
              "      <td>0</td>\n",
              "      <td>1</td>\n",
              "      <td>0</td>\n",
              "    </tr>\n",
              "    <tr>\n",
              "      <th>2463</th>\n",
              "      <td>Stream of consiousnesssskdj. How do you s...</td>\n",
              "      <td>1</td>\n",
              "      <td>1</td>\n",
              "      <td>0</td>\n",
              "      <td>0</td>\n",
              "      <td>1</td>\n",
              "    </tr>\n",
              "    <tr>\n",
              "      <th>2464</th>\n",
              "      <td>It is Wednesday, December 8th and a lot has be...</td>\n",
              "      <td>0</td>\n",
              "      <td>0</td>\n",
              "      <td>1</td>\n",
              "      <td>0</td>\n",
              "      <td>0</td>\n",
              "    </tr>\n",
              "    <tr>\n",
              "      <th>2465</th>\n",
              "      <td>Man this week has been hellish. Anyways, now i...</td>\n",
              "      <td>0</td>\n",
              "      <td>1</td>\n",
              "      <td>0</td>\n",
              "      <td>0</td>\n",
              "      <td>1</td>\n",
              "    </tr>\n",
              "    <tr>\n",
              "      <th>2466</th>\n",
              "      <td>I have just gotten off the phone with brady. I...</td>\n",
              "      <td>0</td>\n",
              "      <td>1</td>\n",
              "      <td>1</td>\n",
              "      <td>0</td>\n",
              "      <td>1</td>\n",
              "    </tr>\n",
              "  </tbody>\n",
              "</table>\n",
              "<p>2467 rows × 6 columns</p>\n",
              "</div>"
            ],
            "text/plain": [
              "                                                   TEXT  cEXT  ...  cCON  cOPN\n",
              "0     Well, right now I just woke up from a mid-day ...     0  ...     0     1\n",
              "1     Well, here we go with the stream of consciousn...     0  ...     0     0\n",
              "2     An open keyboard and buttons to push. The thin...     0  ...     1     1\n",
              "3     I can't believe it!  It's really happening!  M...     1  ...     1     0\n",
              "4     Well, here I go with the good old stream of co...     1  ...     0     1\n",
              "...                                                 ...   ...  ...   ...   ...\n",
              "2462       I'm home. wanted to go to bed but remembe...     0  ...     1     0\n",
              "2463       Stream of consiousnesssskdj. How do you s...     1  ...     0     1\n",
              "2464  It is Wednesday, December 8th and a lot has be...     0  ...     0     0\n",
              "2465  Man this week has been hellish. Anyways, now i...     0  ...     0     1\n",
              "2466  I have just gotten off the phone with brady. I...     0  ...     0     1\n",
              "\n",
              "[2467 rows x 6 columns]"
            ]
          },
          "metadata": {
            "tags": []
          },
          "execution_count": 6
        }
      ]
    },
    {
      "cell_type": "code",
      "metadata": {
        "id": "v8GDX4s0AuDB"
      },
      "source": [
        "for c in targets:\r\n",
        "    print(c, '-', list(df[c]).count(1))\r\n",
        "    print()"
      ],
      "execution_count": null,
      "outputs": []
    },
    {
      "cell_type": "code",
      "metadata": {
        "id": "OC65UkqYYkkj"
      },
      "source": [
        "# Remove html tags\r\n",
        "def removeHTML(sentence):\r\n",
        "    regex = re.compile('<.*?>')\r\n",
        "    return re.sub(regex, ' ', sentence)\r\n",
        "\r\n",
        "# Remove URLs\r\n",
        "def removeURL(sentence):\r\n",
        "    regex = re.compile('http[s]?://\\S+')\r\n",
        "    return re.sub(regex, ' ', sentence)\r\n",
        "\r\n",
        "# remove numbers, punctuation and any special characters (keep only alphabets)\r\n",
        "def onlyAlphabets(sentence):\r\n",
        "    regex = re.compile('[^a-zA-Z]')\r\n",
        "    return re.sub(regex, ' ', sentence)\r\n",
        "\r\n",
        "stop = nltk.corpus.stopwords.words('english')"
      ],
      "execution_count": 8,
      "outputs": []
    },
    {
      "cell_type": "code",
      "metadata": {
        "id": "NOh9bej5asdo"
      },
      "source": [
        "sno = nltk.stem.SnowballStemmer('english')    # Initializing stemmer\r\n",
        "all_sentences = []    # All cleaned sentences\r\n",
        "\r\n",
        "\r\n",
        "for x in range(len(df['TEXT'].values)):\r\n",
        "    question = df['TEXT'].values[x]\r\n",
        "    classname = df[targets].values[x]\r\n",
        "\r\n",
        "    cleaned_sentence = []\r\n",
        "    sentence = removeURL(question) \r\n",
        "    sentence = removeHTML(sentence)\r\n",
        "    sentence = onlyAlphabets(sentence)\r\n",
        "    sentence = sentence.lower()   \r\n",
        "\r\n",
        "    for word in sentence.split():\r\n",
        "        if word not in stop:\r\n",
        "            stemmed = sno.stem(word)\r\n",
        "            cleaned_sentence.append(stemmed)\r\n",
        "    all_sentences.append(' '.join(cleaned_sentence))\r\n",
        "\r\n",
        "# add as column in dataframe\r\n",
        "df['Cleaned'] = all_sentences"
      ],
      "execution_count": 9,
      "outputs": []
    },
    {
      "cell_type": "code",
      "metadata": {
        "id": "SD0PXSO4uRSb"
      },
      "source": [
        "df.isna().sum()"
      ],
      "execution_count": null,
      "outputs": []
    },
    {
      "cell_type": "code",
      "metadata": {
        "colab": {
          "base_uri": "https://localhost:8080/"
        },
        "id": "UL9uEg72mRmG",
        "outputId": "217ac434-113d-4b83-a6b8-56939a922848"
      },
      "source": [
        "X = df['Cleaned']\r\n",
        "y = df[targets]\r\n",
        "\r\n",
        "split = int(0.9*len(df))\r\n",
        " \r\n",
        "Xtrain, Xtest = X[:split], X[split:]\r\n",
        "ytrain, ytest = y[:split], y[split:]\r\n",
        " \r\n",
        "print(\"Train set - \", Xtrain.shape[0])\r\n",
        "print(\"Test set - \", Xtest.shape[0])"
      ],
      "execution_count": 11,
      "outputs": [
        {
          "output_type": "stream",
          "text": [
            "Train set -  2220\n",
            "Test set -  247\n"
          ],
          "name": "stdout"
        }
      ]
    },
    {
      "cell_type": "code",
      "metadata": {
        "id": "24Nsz1Y0ebno"
      },
      "source": [
        "# Tokenization\r\n",
        "vocab = 50000\r\n",
        " \r\n",
        "tokenizer = Tokenizer(num_words = vocab, oov_token = '<UNK>')\r\n",
        "tokenizer.fit_on_texts(Xtrain)\r\n",
        "word_index = tokenizer.word_index\r\n",
        " \r\n",
        "# Padding\r\n",
        "mlen = 1000\r\n",
        "padding_type = 'post'\r\n",
        "trunc_type = 'post'\r\n",
        " \r\n",
        "Xtrain = tokenizer.texts_to_sequences(Xtrain)\r\n",
        "Xtrain = pad_sequences(Xtrain, maxlen=mlen, padding=padding_type, truncating=trunc_type)\r\n",
        "\r\n",
        "Xtest = tokenizer.texts_to_sequences(Xtest)\r\n",
        "Xtest = pad_sequences(Xtest, maxlen=mlen, padding=padding_type, truncating=trunc_type)"
      ],
      "execution_count": 12,
      "outputs": []
    },
    {
      "cell_type": "code",
      "metadata": {
        "id": "dyU3oBYAQh22"
      },
      "source": [
        "# saving\r\n",
        "with open('tokenizer.pickle', 'wb') as handle:\r\n",
        "    pickle.dump(tokenizer, handle, protocol=pickle.HIGHEST_PROTOCOL)"
      ],
      "execution_count": 13,
      "outputs": []
    },
    {
      "cell_type": "code",
      "metadata": {
        "colab": {
          "base_uri": "https://localhost:8080/"
        },
        "id": "1gSRP6zvwXfk",
        "outputId": "5925b12c-dc67-42ad-de13-78a3d660b8f6"
      },
      "source": [
        "EMB = '/content/w2vg.txt'\r\n",
        "EMBEDDING_DIM = 300\r\n",
        "\r\n",
        "embeddings_index = {}\r\n",
        "f = open(EMB, 'r')\r\n",
        "for line in f:\r\n",
        "  values = line.split()\r\n",
        "  word = values[0]\r\n",
        "  coefs = np.asarray(values[1:], dtype='float32')\r\n",
        "  embeddings_index[word] = coefs\r\n",
        "f.close()\r\n",
        "\r\n",
        "print('Found %s word vectors.' %len(embeddings_index))"
      ],
      "execution_count": 14,
      "outputs": [
        {
          "output_type": "stream",
          "text": [
            "Found 3000000 word vectors.\n"
          ],
          "name": "stdout"
        }
      ]
    },
    {
      "cell_type": "code",
      "metadata": {
        "id": "FsIgmv1XyufF"
      },
      "source": [
        "embedding_matrix = np.zeros((vocab, EMBEDDING_DIM))\r\n",
        "for word, i in word_index.items():\r\n",
        "  embedding_vector = embeddings_index.get(word)\r\n",
        "  if embedding_vector is not None:\r\n",
        "    embedding_matrix[i] = embedding_vector"
      ],
      "execution_count": 15,
      "outputs": []
    },
    {
      "cell_type": "code",
      "metadata": {
        "id": "BM1nI-ucwQ6A"
      },
      "source": [
        "# Build and train neural network\r\n",
        " \r\n",
        "model = models.Sequential([\r\n",
        "    layers.Embedding(vocab, EMBEDDING_DIM, weights=[embedding_matrix], input_length = mlen, trainable = False),\r\n",
        "    layers.GlobalAveragePooling1D(),\r\n",
        "    layers.Dense(128, activation = 'relu'),\r\n",
        "    layers.Dense(64, activation = 'relu'),\r\n",
        "    layers.Dense(32, activation = 'relu'),\r\n",
        "    layers.Dense(len(targets), activation = 'sigmoid')\r\n",
        "])\r\n",
        "\r\n",
        "#cb = [callbacks.EarlyStopping(patience = 5, restore_best_weights = True)]\r\n",
        "cb = [callbacks.ModelCheckpoint('big5g.h5', save_best_only=True, monitor='val_accuracy')]"
      ],
      "execution_count": 16,
      "outputs": []
    },
    {
      "cell_type": "code",
      "metadata": {
        "id": "xBjO2LbUwTxv"
      },
      "source": [
        "model.compile(optimizer = optimizers.Adam(0.001), loss = losses.BinaryCrossentropy(), metrics = ['accuracy'])\r\n",
        "history = model.fit(Xtrain, ytrain, validation_data = (Xtest, ytest), epochs = 256, callbacks=cb)"
      ],
      "execution_count": null,
      "outputs": []
    },
    {
      "cell_type": "code",
      "metadata": {
        "id": "pWBgTqFCLy0R"
      },
      "source": [
        "model = load_model('big5g.h5')"
      ],
      "execution_count": 18,
      "outputs": []
    },
    {
      "cell_type": "code",
      "metadata": {
        "id": "9Mt50TAe0PsS"
      },
      "source": [
        "ypred = model.predict(Xtest)\r\n",
        "ypred = (ypred>0.5).astype('int')\r\n",
        "\r\n",
        "cm = multilabel_confusion_matrix(ytest, ypred)\r\n",
        "\r\n",
        "plt.figure(figsize=(40,40))\r\n",
        "\r\n",
        "for k in range(cm.shape[0]):\r\n",
        "    cmi = cm[k].astype('float') / cm[k].sum(axis=1)[:, np.newaxis]\r\n",
        "\r\n",
        "    ax = plt.subplot(len(targets), 1, k+1)\r\n",
        "\r\n",
        "    for i in range(cmi.shape[1]):\r\n",
        "        for j in range(cmi.shape[0]):\r\n",
        "            plt.text(j, i, format(cmi[i, j], '.2f'), horizontalalignment=\"center\", color=\"black\")\r\n",
        "\r\n",
        "    plt.title(targets[k])\r\n",
        "    plt.imshow(cmi, cmap=plt.cm.Blues)\r\n"
      ],
      "execution_count": null,
      "outputs": []
    },
    {
      "cell_type": "code",
      "metadata": {
        "id": "fQ-M5yj0lUI0",
        "colab": {
          "base_uri": "https://localhost:8080/",
          "height": 129
        },
        "outputId": "c86cfaa2-7e25-4cbf-ebd1-5a1c7b1c1027"
      },
      "source": [
        "scores = # predict using model\r\n",
        "\r\n",
        "big5_targets = [['outgoing/energetic', 'solitary/reserved', 'Extraversion'],\r\n",
        "                ['sensitive/nervous', 'resilient/confident', 'Neuroticism'],\r\n",
        "                ['friendly/compassionate', 'challenging/callous', 'Agreeableness'],\r\n",
        "                ['efficient/organized', 'extravagant/careless', 'Conscientiousness'],\r\n",
        "                ['inventive/curious', 'consistent/cautious', 'Openness to experience']]\r\n",
        "\r\n",
        "for i in range(len(scores)):\r\n",
        "    print(big5_targets[i][2], ':', big5_targets[i][int(scores[i] > 0.5)])"
      ],
      "execution_count": 20,
      "outputs": [
        {
          "output_type": "error",
          "ename": "SyntaxError",
          "evalue": "ignored",
          "traceback": [
            "\u001b[0;36m  File \u001b[0;32m\"<ipython-input-20-bb447b212b75>\"\u001b[0;36m, line \u001b[0;32m1\u001b[0m\n\u001b[0;31m    scores = # predict using model\u001b[0m\n\u001b[0m                                  ^\u001b[0m\n\u001b[0;31mSyntaxError\u001b[0m\u001b[0;31m:\u001b[0m invalid syntax\n"
          ]
        }
      ]
    },
    {
      "cell_type": "code",
      "metadata": {
        "id": "60XHcHNUI-qn"
      },
      "source": [
        " "
      ],
      "execution_count": null,
      "outputs": []
    }
  ]
}